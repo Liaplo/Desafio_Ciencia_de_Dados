{
  "nbformat": 4,
  "nbformat_minor": 0,
  "metadata": {
    "colab": {
      "provenance": []
    },
    "kernelspec": {
      "name": "python3",
      "display_name": "Python 3"
    },
    "language_info": {
      "name": "python"
    }
  },
  "cells": [
    {
      "cell_type": "markdown",
      "source": [
        "###Compreendendo o desafio\n",
        "\n",
        "Estamos lidando com um problema de classificação: baseia-se em prever a categoria de uma observação dada. Aqui, procura-se estimar um “classificador” que gere como saída a classificação qualitativa de um dado não observado com base em dados de entrada (que abrangem observações com classificações já definidas).\n",
        "\n",
        "\n",
        "\n"
      ],
      "metadata": {
        "id": "OOxDzpMC2kPT"
      }
    },
    {
      "cell_type": "markdown",
      "source": [
        "###Bibliotecas utilizadas"
      ],
      "metadata": {
        "id": "XIrM7qFZ0-jn"
      }
    },
    {
      "cell_type": "code",
      "execution_count": 13,
      "metadata": {
        "id": "XpjoytLRq5y7"
      },
      "outputs": [],
      "source": [
        "import pandas as pd\n",
        "import numpy as np\n",
        "import matplotlib.pyplot as plt\n",
        "from sklearn.preprocessing import StandardScaler\n",
        "from imblearn.over_sampling import RandomOverSampler\n",
        "from sklearn.metrics import classification_report\n",
        "from sklearn.svm import SVC"
      ]
    },
    {
      "cell_type": "markdown",
      "source": [
        "###Dataset:\n",
        "\n",
        "Abrindo o arquivo que contém os dados de entrada para treinamento do modelo que iremos utilizar para fazer a predição.\n"
      ],
      "metadata": {
        "id": "_uuQyZU2y0h3"
      }
    },
    {
      "cell_type": "code",
      "source": [
        "df = pd.read_csv(\"desafio_manutencao_preditiva_treino.csv\")\n",
        "df.head()"
      ],
      "metadata": {
        "colab": {
          "base_uri": "https://localhost:8080/",
          "height": 206
        },
        "id": "hJtBgLCBzBYq",
        "outputId": "1abb1538-ec0d-4d5e-bdc3-72358d88258e"
      },
      "execution_count": 14,
      "outputs": [
        {
          "output_type": "execute_result",
          "data": {
            "text/plain": [
              "   udi product_id type  air_temperature_k  process_temperature_k  \\\n",
              "0    1     M14860    M              298.1                  308.6   \n",
              "1    2     L47181    L              298.2                  308.7   \n",
              "2    5     L47184    L              298.2                  308.7   \n",
              "3    6     M14865    M              298.1                  308.6   \n",
              "4    7     L47186    L              298.1                  308.6   \n",
              "\n",
              "   rotational_speed_rpm  torque_nm  tool_wear_min failure_type  \n",
              "0                  1551       42.8              0   No Failure  \n",
              "1                  1408       46.3              3   No Failure  \n",
              "2                  1408       40.0              9   No Failure  \n",
              "3                  1425       41.9             11   No Failure  \n",
              "4                  1558       42.4             14   No Failure  "
            ],
            "text/html": [
              "\n",
              "  <div id=\"df-d264fb5b-6278-4bfe-b9d8-211af986b35c\">\n",
              "    <div class=\"colab-df-container\">\n",
              "      <div>\n",
              "<style scoped>\n",
              "    .dataframe tbody tr th:only-of-type {\n",
              "        vertical-align: middle;\n",
              "    }\n",
              "\n",
              "    .dataframe tbody tr th {\n",
              "        vertical-align: top;\n",
              "    }\n",
              "\n",
              "    .dataframe thead th {\n",
              "        text-align: right;\n",
              "    }\n",
              "</style>\n",
              "<table border=\"1\" class=\"dataframe\">\n",
              "  <thead>\n",
              "    <tr style=\"text-align: right;\">\n",
              "      <th></th>\n",
              "      <th>udi</th>\n",
              "      <th>product_id</th>\n",
              "      <th>type</th>\n",
              "      <th>air_temperature_k</th>\n",
              "      <th>process_temperature_k</th>\n",
              "      <th>rotational_speed_rpm</th>\n",
              "      <th>torque_nm</th>\n",
              "      <th>tool_wear_min</th>\n",
              "      <th>failure_type</th>\n",
              "    </tr>\n",
              "  </thead>\n",
              "  <tbody>\n",
              "    <tr>\n",
              "      <th>0</th>\n",
              "      <td>1</td>\n",
              "      <td>M14860</td>\n",
              "      <td>M</td>\n",
              "      <td>298.1</td>\n",
              "      <td>308.6</td>\n",
              "      <td>1551</td>\n",
              "      <td>42.8</td>\n",
              "      <td>0</td>\n",
              "      <td>No Failure</td>\n",
              "    </tr>\n",
              "    <tr>\n",
              "      <th>1</th>\n",
              "      <td>2</td>\n",
              "      <td>L47181</td>\n",
              "      <td>L</td>\n",
              "      <td>298.2</td>\n",
              "      <td>308.7</td>\n",
              "      <td>1408</td>\n",
              "      <td>46.3</td>\n",
              "      <td>3</td>\n",
              "      <td>No Failure</td>\n",
              "    </tr>\n",
              "    <tr>\n",
              "      <th>2</th>\n",
              "      <td>5</td>\n",
              "      <td>L47184</td>\n",
              "      <td>L</td>\n",
              "      <td>298.2</td>\n",
              "      <td>308.7</td>\n",
              "      <td>1408</td>\n",
              "      <td>40.0</td>\n",
              "      <td>9</td>\n",
              "      <td>No Failure</td>\n",
              "    </tr>\n",
              "    <tr>\n",
              "      <th>3</th>\n",
              "      <td>6</td>\n",
              "      <td>M14865</td>\n",
              "      <td>M</td>\n",
              "      <td>298.1</td>\n",
              "      <td>308.6</td>\n",
              "      <td>1425</td>\n",
              "      <td>41.9</td>\n",
              "      <td>11</td>\n",
              "      <td>No Failure</td>\n",
              "    </tr>\n",
              "    <tr>\n",
              "      <th>4</th>\n",
              "      <td>7</td>\n",
              "      <td>L47186</td>\n",
              "      <td>L</td>\n",
              "      <td>298.1</td>\n",
              "      <td>308.6</td>\n",
              "      <td>1558</td>\n",
              "      <td>42.4</td>\n",
              "      <td>14</td>\n",
              "      <td>No Failure</td>\n",
              "    </tr>\n",
              "  </tbody>\n",
              "</table>\n",
              "</div>\n",
              "      <button class=\"colab-df-convert\" onclick=\"convertToInteractive('df-d264fb5b-6278-4bfe-b9d8-211af986b35c')\"\n",
              "              title=\"Convert this dataframe to an interactive table.\"\n",
              "              style=\"display:none;\">\n",
              "        \n",
              "  <svg xmlns=\"http://www.w3.org/2000/svg\" height=\"24px\"viewBox=\"0 0 24 24\"\n",
              "       width=\"24px\">\n",
              "    <path d=\"M0 0h24v24H0V0z\" fill=\"none\"/>\n",
              "    <path d=\"M18.56 5.44l.94 2.06.94-2.06 2.06-.94-2.06-.94-.94-2.06-.94 2.06-2.06.94zm-11 1L8.5 8.5l.94-2.06 2.06-.94-2.06-.94L8.5 2.5l-.94 2.06-2.06.94zm10 10l.94 2.06.94-2.06 2.06-.94-2.06-.94-.94-2.06-.94 2.06-2.06.94z\"/><path d=\"M17.41 7.96l-1.37-1.37c-.4-.4-.92-.59-1.43-.59-.52 0-1.04.2-1.43.59L10.3 9.45l-7.72 7.72c-.78.78-.78 2.05 0 2.83L4 21.41c.39.39.9.59 1.41.59.51 0 1.02-.2 1.41-.59l7.78-7.78 2.81-2.81c.8-.78.8-2.07 0-2.86zM5.41 20L4 18.59l7.72-7.72 1.47 1.35L5.41 20z\"/>\n",
              "  </svg>\n",
              "      </button>\n",
              "      \n",
              "  <style>\n",
              "    .colab-df-container {\n",
              "      display:flex;\n",
              "      flex-wrap:wrap;\n",
              "      gap: 12px;\n",
              "    }\n",
              "\n",
              "    .colab-df-convert {\n",
              "      background-color: #E8F0FE;\n",
              "      border: none;\n",
              "      border-radius: 50%;\n",
              "      cursor: pointer;\n",
              "      display: none;\n",
              "      fill: #1967D2;\n",
              "      height: 32px;\n",
              "      padding: 0 0 0 0;\n",
              "      width: 32px;\n",
              "    }\n",
              "\n",
              "    .colab-df-convert:hover {\n",
              "      background-color: #E2EBFA;\n",
              "      box-shadow: 0px 1px 2px rgba(60, 64, 67, 0.3), 0px 1px 3px 1px rgba(60, 64, 67, 0.15);\n",
              "      fill: #174EA6;\n",
              "    }\n",
              "\n",
              "    [theme=dark] .colab-df-convert {\n",
              "      background-color: #3B4455;\n",
              "      fill: #D2E3FC;\n",
              "    }\n",
              "\n",
              "    [theme=dark] .colab-df-convert:hover {\n",
              "      background-color: #434B5C;\n",
              "      box-shadow: 0px 1px 3px 1px rgba(0, 0, 0, 0.15);\n",
              "      filter: drop-shadow(0px 1px 2px rgba(0, 0, 0, 0.3));\n",
              "      fill: #FFFFFF;\n",
              "    }\n",
              "  </style>\n",
              "\n",
              "      <script>\n",
              "        const buttonEl =\n",
              "          document.querySelector('#df-d264fb5b-6278-4bfe-b9d8-211af986b35c button.colab-df-convert');\n",
              "        buttonEl.style.display =\n",
              "          google.colab.kernel.accessAllowed ? 'block' : 'none';\n",
              "\n",
              "        async function convertToInteractive(key) {\n",
              "          const element = document.querySelector('#df-d264fb5b-6278-4bfe-b9d8-211af986b35c');\n",
              "          const dataTable =\n",
              "            await google.colab.kernel.invokeFunction('convertToInteractive',\n",
              "                                                     [key], {});\n",
              "          if (!dataTable) return;\n",
              "\n",
              "          const docLinkHtml = 'Like what you see? Visit the ' +\n",
              "            '<a target=\"_blank\" href=https://colab.research.google.com/notebooks/data_table.ipynb>data table notebook</a>'\n",
              "            + ' to learn more about interactive tables.';\n",
              "          element.innerHTML = '';\n",
              "          dataTable['output_type'] = 'display_data';\n",
              "          await google.colab.output.renderOutput(dataTable, element);\n",
              "          const docLink = document.createElement('div');\n",
              "          docLink.innerHTML = docLinkHtml;\n",
              "          element.appendChild(docLink);\n",
              "        }\n",
              "      </script>\n",
              "    </div>\n",
              "  </div>\n",
              "  "
            ]
          },
          "metadata": {},
          "execution_count": 14
        }
      ]
    },
    {
      "cell_type": "markdown",
      "source": [
        "###Análise dos dados\n",
        "\n",
        "Analisemos a composição dos dados relativo a coluna failure_type"
      ],
      "metadata": {
        "id": "y9pjzYCV0ENg"
      }
    },
    {
      "cell_type": "code",
      "source": [
        "print(\"Porcentagem\\n\")\n",
        "percentage = df['failure_type'].value_counts(normalize=True,sort=True)*100\n",
        "print(percentage)"
      ],
      "metadata": {
        "colab": {
          "base_uri": "https://localhost:8080/"
        },
        "id": "da4aeqxg0NO4",
        "outputId": "1f0ea192-f132-4a0f-82f6-943e4ee18ac6"
      },
      "execution_count": 15,
      "outputs": [
        {
          "output_type": "stream",
          "name": "stdout",
          "text": [
            "Porcentagem\n",
            "\n",
            "No Failure                  96.520174\n",
            "Heat Dissipation Failure     1.124944\n",
            "Power Failure                0.944953\n",
            "Overstrain Failure           0.779961\n",
            "Tool Wear Failure            0.449978\n",
            "Random Failures              0.179991\n",
            "Name: failure_type, dtype: float64\n"
          ]
        }
      ]
    },
    {
      "cell_type": "markdown",
      "source": [
        "Os dados de entrada são de maioria pertencentes a categoria 'No failure'. Logo, há um desbalanceamento. Isso faz com que tenhamos muitas informações a respeito da categoria mais incidente('No  failure'), e menos das minoritárias(outras cinco categorias)."
      ],
      "metadata": {
        "id": "sRCRG3Li31hl"
      }
    },
    {
      "cell_type": "markdown",
      "source": [
        "###Histograma\n",
        "\n",
        "Um histograma é uma espécie de gráfico de barras que demonstra uma distribuição de frequências. No histograma, a base de cada uma das barras representa uma classe e a altura representa a quantidade ou frequência absoluta com que o valor de cada classe ocorre.\n",
        "\n",
        "O histograma de cada categoria são sobrepostos referentes as colunas. Assim, conseguimos acompanhar quais categorias se destacam referente a cada coluna nas diferentes faixas de valores.\n",
        "\n"
      ],
      "metadata": {
        "id": "gpvYGngP-SCa"
      }
    },
    {
      "cell_type": "code",
      "source": [
        "failureType = ('No Failure','Power Failure','Tool Wear Failure','Overstrain Failure',\n",
        "'Random Failures','Heat Dissipation Failure')\n",
        "cols = (\"type\",\"air_temperature_k\",\"process_temperature_k\",\"rotational_speed_rpm\",\n",
        "\"torque_nm\",\"tool_wear_min\")\n",
        "\n",
        "for label in cols:\n",
        "\tfor types in failureType:\n",
        "\t\tplt.hist(df[df[\"failure_type\"]==types][label],label=types, alpha=0.7, density=True)\n",
        "\tplt.title(label)\n",
        "\tplt.ylabel(\"Probability\")\n",
        "\tplt.xlabel(label)\n",
        "\tplt.legend()\n",
        "\tplt.show()"
      ],
      "metadata": {
        "colab": {
          "base_uri": "https://localhost:8080/",
          "height": 1000
        },
        "id": "5u6NudQw8yhP",
        "outputId": "bb2c04dd-d3bf-450c-9ea2-f4b6094321bc"
      },
      "execution_count": 16,
      "outputs": [
        {
          "output_type": "display_data",
          "data": {
            "text/plain": [
              "<Figure size 432x288 with 1 Axes>"
            ],
            "image/png": "[encoded data removed]"
          },
          "metadata": {
            "needs_background": "light"
          }
        },
        {
          "output_type": "display_data",
          "data": {
            "text/plain": [
              "<Figure size 432x288 with 1 Axes>"
            ],
            "image/png": "[encoded data removed]"
          },
          "metadata": {
            "needs_background": "light"
          }
        },
        {
          "output_type": "display_data",
          "data": {
            "text/plain": [
              "<Figure size 432x288 with 1 Axes>"
            ],
            "image/png": "[encoded data removed]"
          },
          "metadata": {
            "needs_background": "light"
          }
        },
        {
          "output_type": "display_data",
          "data": {
            "text/plain": [
              "<Figure size 432x288 with 1 Axes>"
            ],
            "image/png": "[encoded data removed]"
          },
          "metadata": {
            "needs_background": "light"
          }
        },
        {
          "output_type": "display_data",
          "data": {
            "text/plain": [
              "<Figure size 432x288 with 1 Axes>"
            ],
            "image/png": "[encoded data removed]"
          },
          "metadata": {
            "needs_background": "light"
          }
        },
        {
          "output_type": "display_data",
          "data": {
            "text/plain": [
              "<Figure size 432x288 with 1 Axes>"
            ],
            "image/png": "[encoded data removed]"
          },
          "metadata": {
            "needs_background": "light"
          }
        }
      ]
    },
    {
      "cell_type": "markdown",
      "source": [
        "###Datasets de treino e teste\n"
      ],
      "metadata": {
        "id": "xj1hMnE1BE-P"
      }
    },
    {
      "cell_type": "markdown",
      "source": [
        "Conversão para valores númericos da coluna type"
      ],
      "metadata": {
        "id": "TArpxtlZTlUx"
      }
    },
    {
      "cell_type": "code",
      "source": [
        "dict_type = {\"H\":1,\"L\":2,\"M\":3}\n",
        "df.type = df.type.map(dict_type)"
      ],
      "metadata": {
        "id": "Xp96HCJMBOBG"
      },
      "execution_count": 17,
      "outputs": []
    },
    {
      "cell_type": "markdown",
      "source": [
        "Conjunto de dados para treino e teste onde 75% dos dados serão para treino e 25% para teste\n",
        "\n"
      ],
      "metadata": {
        "id": "21aglEelQqff"
      }
    },
    {
      "cell_type": "code",
      "source": [
        "train,test = np.split(df.sample(frac=1), [int(0.75*len(df))])"
      ],
      "metadata": {
        "id": "DpLuK_6nR1Wx"
      },
      "execution_count": null,
      "outputs": []
    },
    {
      "cell_type": "markdown",
      "source": [
        "Como será utilizado um método baseado em medidas de quão distantes estão os pontos de dados(SVM e kNN) iremos dimensionar os dados.\n",
        "\n",
        "Visto que a distribuição das categorias é bastante desbalanceada será feito um oversampling para ajustar a distribuição de classes do conjunto de dados de teste."
      ],
      "metadata": {
        "id": "Em5le4W2R3RD"
      }
    },
    {
      "cell_type": "code",
      "source": [
        "def scale_dataset(dataframe, oversample=False):\n",
        "\t#duas primeiras colunas não agregam nos resultados\n",
        "\tX = dataframe[dataframe.columns[2:-1]].values\n",
        "\t#coluna com os resultados\n",
        "\ty = dataframe[dataframe.columns[-1]].values\n",
        "\t\n",
        "\tX = StandardScaler().fit_transform(X)\n",
        "\t\n",
        "\tif oversample:\n",
        "\t\tros = RandomOverSampler()\n",
        "\t\tX, y = ros.fit_resample(X, y)\n",
        "\t\n",
        "\tdata = np.hstack((X, np.reshape(y, (-1, 1))))\n",
        "\t\n",
        "\treturn data, X, y\n",
        "\n",
        "\n",
        "train, X_train, y_train = scale_dataset(train, oversample=True)\n",
        "test, X_test, y_test = scale_dataset(test)\n"
      ],
      "metadata": {
        "id": "GWdiDmLhBZf8"
      },
      "execution_count": 18,
      "outputs": []
    },
    {
      "cell_type": "markdown",
      "source": [
        "###Algoritmos\n",
        "\n",
        "O algoritmo de SVM foi o selecionado de 4 algoritmos. \n",
        "\n",
        "1- Naive Bayes\n",
        "> Motivo: desconsidera completamente qualquer correlação existente entre os atributos do dataset\n",
        "\n",
        "2- Log Regression\n",
        "> Motivo:A Regressão Logística é usada para estimar valores discretos de classes binárias.\n",
        "\n",
        "3- kNN\n",
        "> Motivo: os resultados foram inferiores em relação ao SVM.\n",
        "\n",
        "4- SVM\n",
        "> Apesar de o treinamento do SVM geralmente ser lento,exigem poucos ajustes e tende a apresentar bons resultado.\n",
        "\n"
      ],
      "metadata": {
        "id": "RWXAPX7cKZ1P"
      }
    },
    {
      "cell_type": "markdown",
      "source": [
        "###Naive Bayes"
      ],
      "metadata": {
        "id": "GxDNT-GBJ_q4"
      }
    },
    {
      "cell_type": "code",
      "source": [
        "from sklearn.naive_bayes import GaussianNB\n",
        "\n",
        "nb_model = GaussianNB()\n",
        "nb_model = nb_model.fit(X_train, y_train)\n",
        "\n",
        "y_pred = nb_model.predict(X_test)\n",
        "print(classification_report(y_test, y_pred))"
      ],
      "metadata": {
        "colab": {
          "base_uri": "https://localhost:8080/"
        },
        "id": "HlLpi-icKH89",
        "outputId": "05fb50d4-bb49-48d2-ac39-97082413ce25"
      },
      "execution_count": 24,
      "outputs": [
        {
          "output_type": "stream",
          "name": "stdout",
          "text": [
            "                          precision    recall  f1-score   support\n",
            "\n",
            "Heat Dissipation Failure       0.11      0.86      0.19        14\n",
            "              No Failure       1.00      0.53      0.69      1615\n",
            "      Overstrain Failure       0.18      0.93      0.30        14\n",
            "           Power Failure       0.05      0.70      0.09        10\n",
            "         Random Failures       0.00      0.25      0.01         4\n",
            "       Tool Wear Failure       0.08      0.80      0.14        10\n",
            "\n",
            "                accuracy                           0.53      1667\n",
            "               macro avg       0.24      0.68      0.24      1667\n",
            "            weighted avg       0.97      0.53      0.67      1667\n",
            "\n"
          ]
        }
      ]
    },
    {
      "cell_type": "markdown",
      "source": [
        "##kNN"
      ],
      "metadata": {
        "id": "bURx0mT_JOIJ"
      }
    },
    {
      "cell_type": "code",
      "source": [
        "from sklearn.neighbors import KNeighborsClassifier\n",
        "from sklearn.metrics import classification_report\n",
        "\n",
        "knn_model = KNeighborsClassifier(n_neighbors=10)\n",
        "knn_model.fit(X_train, y_train)\n",
        "\n",
        "y_pred = knn_model.predict(X_test)\n",
        "\n",
        "print(classification_report(y_test, y_pred))"
      ],
      "metadata": {
        "colab": {
          "base_uri": "https://localhost:8080/"
        },
        "id": "dhST54JqJfEq",
        "outputId": "92eec9ee-2d8a-416f-af61-6d60c77aad85"
      },
      "execution_count": 23,
      "outputs": [
        {
          "output_type": "stream",
          "name": "stdout",
          "text": [
            "                          precision    recall  f1-score   support\n",
            "\n",
            "Heat Dissipation Failure       0.23      0.86      0.36        14\n",
            "              No Failure       0.99      0.93      0.96      1615\n",
            "      Overstrain Failure       0.41      0.86      0.56        14\n",
            "           Power Failure       0.25      0.70      0.37        10\n",
            "         Random Failures       0.00      0.00      0.00         4\n",
            "       Tool Wear Failure       0.07      0.20      0.10        10\n",
            "\n",
            "                accuracy                           0.92      1667\n",
            "               macro avg       0.33      0.59      0.39      1667\n",
            "            weighted avg       0.97      0.92      0.94      1667\n",
            "\n"
          ]
        }
      ]
    },
    {
      "cell_type": "markdown",
      "source": [
        "###SVM"
      ],
      "metadata": {
        "id": "-hPVTu4tBpR3"
      }
    },
    {
      "cell_type": "code",
      "source": [
        "svm_model = SVC()\n",
        "svm_model = svm_model.fit(X_train, y_train)\n",
        "\n",
        "y_pred = svm_model.predict(X_test)\n",
        "#accuracy = TP+TN/TP+TN+FN+FP\n",
        "#precision = TP/TP+FP\n",
        "#recall = TP/TP+FN\n",
        "#f1 score = 2*(precision*recall/(precision+recall))\n",
        "print(classification_report(y_test, y_pred))"
      ],
      "metadata": {
        "colab": {
          "base_uri": "https://localhost:8080/"
        },
        "id": "1t6p-Wt6Bqs-",
        "outputId": "974f69a4-1e16-4e02-fb92-3065b84c7bb5"
      },
      "execution_count": 19,
      "outputs": [
        {
          "output_type": "stream",
          "name": "stdout",
          "text": [
            "                          precision    recall  f1-score   support\n",
            "\n",
            "Heat Dissipation Failure       0.26      1.00      0.42        14\n",
            "              No Failure       1.00      0.89      0.94      1615\n",
            "      Overstrain Failure       0.56      1.00      0.72        14\n",
            "           Power Failure       0.30      0.70      0.42        10\n",
            "         Random Failures       0.00      0.00      0.00         4\n",
            "       Tool Wear Failure       0.13      0.80      0.23        10\n",
            "\n",
            "                accuracy                           0.89      1667\n",
            "               macro avg       0.38      0.73      0.45      1667\n",
            "            weighted avg       0.97      0.89      0.93      1667\n",
            "\n"
          ]
        }
      ]
    },
    {
      "cell_type": "markdown",
      "source": [
        "O resultado da acurácia dá a impressão que o algoritmo escolhido perfomou bem. No entanto, ao analisar cuidadosamente os dados notaremos que ele identifica bem a categoria 'No failure' das demais. No entanto, a predição para as outras categorias apresentam um resultado bastante abaixo. \n",
        "Apesar do oversampling ter melhorado a predição o resultado não é satisfatório, uma vez que a identificação desses casos minoritários são o cerne do desafio a ser resolvido."
      ],
      "metadata": {
        "id": "KdyNSVLpXceJ"
      }
    },
    {
      "cell_type": "markdown",
      "source": [
        "###Predição"
      ],
      "metadata": {
        "id": "kQESgygLBxdF"
      }
    },
    {
      "cell_type": "markdown",
      "source": [
        "Leitura dos dados para predição"
      ],
      "metadata": {
        "id": "9vRuko90O-Jr"
      }
    },
    {
      "cell_type": "code",
      "source": [
        "df_teste = pd.read_csv(\"desafio_manutencao_preditiva_teste.csv\")\n",
        "df_teste.type = df_teste.type.map(dict_type)"
      ],
      "metadata": {
        "id": "EJM0vmilO32o"
      },
      "execution_count": 27,
      "outputs": []
    },
    {
      "cell_type": "markdown",
      "source": [
        "Formatação dos dados e predição usando o modelo SVM\n",
        "\n"
      ],
      "metadata": {
        "id": "3d2U2ic1PFJs"
      }
    },
    {
      "cell_type": "code",
      "source": [
        "x_teste_pred = df_teste[df_teste.columns[2:]].values\n",
        "x_teste_pred = StandardScaler().fit_transform(x_teste_pred)\n",
        "\n",
        "y_teste_pred = svm_model.predict(x_teste_pred)"
      ],
      "metadata": {
        "id": "ex6W7ZFgO44o"
      },
      "execution_count": 28,
      "outputs": []
    },
    {
      "cell_type": "markdown",
      "source": [
        "Criação do arquivo final predicted.csv"
      ],
      "metadata": {
        "id": "5opEPyyfPLd9"
      }
    },
    {
      "cell_type": "code",
      "source": [
        "#gera a predição solicitada\n",
        "df_predict = pd.DataFrame(data={'rowNUmber':np.array(range(1,3334)),'predictedValues':y_teste_pred})\n",
        "df_predict.to_csv(\"predicted.csv\",index=False)\n",
        "df_predict.head()"
      ],
      "metadata": {
        "colab": {
          "base_uri": "https://localhost:8080/",
          "height": 206
        },
        "id": "Ajp04wyEB1s8",
        "outputId": "b57f888c-5be0-44d6-83af-01216830f659"
      },
      "execution_count": 29,
      "outputs": [
        {
          "output_type": "execute_result",
          "data": {
            "text/plain": [
              "   rowNUmber predictedValues\n",
              "0          1      No Failure\n",
              "1          2      No Failure\n",
              "2          3      No Failure\n",
              "3          4      No Failure\n",
              "4          5      No Failure"
            ],
            "text/html": [
              "\n",
              "  <div id=\"df-fa0815dd-e7a4-4e43-8f6a-bca2635ab212\">\n",
              "    <div class=\"colab-df-container\">\n",
              "      <div>\n",
              "<style scoped>\n",
              "    .dataframe tbody tr th:only-of-type {\n",
              "        vertical-align: middle;\n",
              "    }\n",
              "\n",
              "    .dataframe tbody tr th {\n",
              "        vertical-align: top;\n",
              "    }\n",
              "\n",
              "    .dataframe thead th {\n",
              "        text-align: right;\n",
              "    }\n",
              "</style>\n",
              "<table border=\"1\" class=\"dataframe\">\n",
              "  <thead>\n",
              "    <tr style=\"text-align: right;\">\n",
              "      <th></th>\n",
              "      <th>rowNUmber</th>\n",
              "      <th>predictedValues</th>\n",
              "    </tr>\n",
              "  </thead>\n",
              "  <tbody>\n",
              "    <tr>\n",
              "      <th>0</th>\n",
              "      <td>1</td>\n",
              "      <td>No Failure</td>\n",
              "    </tr>\n",
              "    <tr>\n",
              "      <th>1</th>\n",
              "      <td>2</td>\n",
              "      <td>No Failure</td>\n",
              "    </tr>\n",
              "    <tr>\n",
              "      <th>2</th>\n",
              "      <td>3</td>\n",
              "      <td>No Failure</td>\n",
              "    </tr>\n",
              "    <tr>\n",
              "      <th>3</th>\n",
              "      <td>4</td>\n",
              "      <td>No Failure</td>\n",
              "    </tr>\n",
              "    <tr>\n",
              "      <th>4</th>\n",
              "      <td>5</td>\n",
              "      <td>No Failure</td>\n",
              "    </tr>\n",
              "  </tbody>\n",
              "</table>\n",
              "</div>\n",
              "      <button class=\"colab-df-convert\" onclick=\"convertToInteractive('df-fa0815dd-e7a4-4e43-8f6a-bca2635ab212')\"\n",
              "              title=\"Convert this dataframe to an interactive table.\"\n",
              "              style=\"display:none;\">\n",
              "        \n",
              "  <svg xmlns=\"http://www.w3.org/2000/svg\" height=\"24px\"viewBox=\"0 0 24 24\"\n",
              "       width=\"24px\">\n",
              "    <path d=\"M0 0h24v24H0V0z\" fill=\"none\"/>\n",
              "    <path d=\"M18.56 5.44l.94 2.06.94-2.06 2.06-.94-2.06-.94-.94-2.06-.94 2.06-2.06.94zm-11 1L8.5 8.5l.94-2.06 2.06-.94-2.06-.94L8.5 2.5l-.94 2.06-2.06.94zm10 10l.94 2.06.94-2.06 2.06-.94-2.06-.94-.94-2.06-.94 2.06-2.06.94z\"/><path d=\"M17.41 7.96l-1.37-1.37c-.4-.4-.92-.59-1.43-.59-.52 0-1.04.2-1.43.59L10.3 9.45l-7.72 7.72c-.78.78-.78 2.05 0 2.83L4 21.41c.39.39.9.59 1.41.59.51 0 1.02-.2 1.41-.59l7.78-7.78 2.81-2.81c.8-.78.8-2.07 0-2.86zM5.41 20L4 18.59l7.72-7.72 1.47 1.35L5.41 20z\"/>\n",
              "  </svg>\n",
              "      </button>\n",
              "      \n",
              "  <style>\n",
              "    .colab-df-container {\n",
              "      display:flex;\n",
              "      flex-wrap:wrap;\n",
              "      gap: 12px;\n",
              "    }\n",
              "\n",
              "    .colab-df-convert {\n",
              "      background-color: #E8F0FE;\n",
              "      border: none;\n",
              "      border-radius: 50%;\n",
              "      cursor: pointer;\n",
              "      display: none;\n",
              "      fill: #1967D2;\n",
              "      height: 32px;\n",
              "      padding: 0 0 0 0;\n",
              "      width: 32px;\n",
              "    }\n",
              "\n",
              "    .colab-df-convert:hover {\n",
              "      background-color: #E2EBFA;\n",
              "      box-shadow: 0px 1px 2px rgba(60, 64, 67, 0.3), 0px 1px 3px 1px rgba(60, 64, 67, 0.15);\n",
              "      fill: #174EA6;\n",
              "    }\n",
              "\n",
              "    [theme=dark] .colab-df-convert {\n",
              "      background-color: #3B4455;\n",
              "      fill: #D2E3FC;\n",
              "    }\n",
              "\n",
              "    [theme=dark] .colab-df-convert:hover {\n",
              "      background-color: #434B5C;\n",
              "      box-shadow: 0px 1px 3px 1px rgba(0, 0, 0, 0.15);\n",
              "      filter: drop-shadow(0px 1px 2px rgba(0, 0, 0, 0.3));\n",
              "      fill: #FFFFFF;\n",
              "    }\n",
              "  </style>\n",
              "\n",
              "      <script>\n",
              "        const buttonEl =\n",
              "          document.querySelector('#df-fa0815dd-e7a4-4e43-8f6a-bca2635ab212 button.colab-df-convert');\n",
              "        buttonEl.style.display =\n",
              "          google.colab.kernel.accessAllowed ? 'block' : 'none';\n",
              "\n",
              "        async function convertToInteractive(key) {\n",
              "          const element = document.querySelector('#df-fa0815dd-e7a4-4e43-8f6a-bca2635ab212');\n",
              "          const dataTable =\n",
              "            await google.colab.kernel.invokeFunction('convertToInteractive',\n",
              "                                                     [key], {});\n",
              "          if (!dataTable) return;\n",
              "\n",
              "          const docLinkHtml = 'Like what you see? Visit the ' +\n",
              "            '<a target=\"_blank\" href=https://colab.research.google.com/notebooks/data_table.ipynb>data table notebook</a>'\n",
              "            + ' to learn more about interactive tables.';\n",
              "          element.innerHTML = '';\n",
              "          dataTable['output_type'] = 'display_data';\n",
              "          await google.colab.output.renderOutput(dataTable, element);\n",
              "          const docLink = document.createElement('div');\n",
              "          docLink.innerHTML = docLinkHtml;\n",
              "          element.appendChild(docLink);\n",
              "        }\n",
              "      </script>\n",
              "    </div>\n",
              "  </div>\n",
              "  "
            ]
          },
          "metadata": {},
          "execution_count": 29
        }
      ]
    }
  ]
}